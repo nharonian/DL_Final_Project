{
  "cells": [
    {
      "cell_type": "code",
      "execution_count": null,
      "metadata": {
        "id": "kTkzvpeHktgW"
      },
      "outputs": [],
      "source": [
        "import os \n",
        "import sys\n",
        "import numpy as np\n",
        "import tensorflow as tf"
      ]
    },
    {
      "cell_type": "code",
      "execution_count": null,
      "metadata": {
        "colab": {
          "base_uri": "https://localhost:8080/"
        },
        "id": "5xU0T74Lkxby",
        "outputId": "29c6610a-2fe6-4168-88a4-1741490388a6"
      },
      "outputs": [
        {
          "output_type": "stream",
          "name": "stdout",
          "text": [
            "Mounted at /content/drive\n"
          ]
        }
      ],
      "source": [
        "from google.colab import drive\n",
        "drive.mount('/content/drive',force_remount=True)"
      ]
    },
    {
      "cell_type": "code",
      "execution_count": null,
      "metadata": {
        "colab": {
          "base_uri": "https://localhost:8080/"
        },
        "id": "hmNBkPbNk-MS",
        "outputId": "b11736f7-6c79-4091-f6c8-7ac1eb027c5a"
      },
      "outputs": [
        {
          "output_type": "stream",
          "name": "stdout",
          "text": [
            "ls: cannot access '/content/drive/My Drive/Brown/Deep Learning/Final Project': No such file or directory\n",
            "[Errno 2] No such file or directory: '/content/drive/My Drive/Brown/Deep Learning/Final Project'\n",
            "/content\n",
            "/content\n",
            "Cloning into 'OrderChaosHNN'...\n",
            "remote: Enumerating objects: 77, done.\u001b[K\n",
            "remote: Counting objects: 100% (20/20), done.\u001b[K\n",
            "remote: Compressing objects: 100% (6/6), done.\u001b[K\n",
            "remote: Total 77 (delta 16), reused 14 (delta 14), pack-reused 57\u001b[K\n",
            "Unpacking objects: 100% (77/77), done.\n"
          ]
        }
      ],
      "source": [
        "!ls \"/content/drive/My Drive/Brown/Deep Learning/Final Project\"\n",
        "%cd \"/content/drive/My Drive/Brown/Deep Learning/Final Project\"\n",
        "!pwd\n",
        "!git clone https://github.com/anshu957/OrderChaosHNN.git"
      ]
    },
    {
      "cell_type": "code",
      "execution_count": null,
      "metadata": {
        "id": "27RhFGXxeK5p"
      },
      "outputs": [],
      "source": [
        "#Harmonic oscillator \n",
        "from matplotlib import pyplot as plt\n",
        "\n",
        "def oscillator(d, w0, x):\n",
        "    \"\"\"Gives analytical solution to 1D underdamped harmonic oscillator problem. \n",
        "    Equations taken from: https://beltoforion.de/en/harmonic_oscillator/\"\"\"\n",
        "    assert d < w0\n",
        "    w = np.sqrt(w0**2-d**2)\n",
        "    phi = np.arctan(-d/w)\n",
        "    A = 1/(2*np.cos(phi))\n",
        "    cos = tf.math.cos(phi+w*x)\n",
        "    sin = tf.math.sin(phi+w*x)\n",
        "    exp = tf.math.exp(-d*x)\n",
        "    y  = exp*2*A*cos\n",
        "    return y"
      ]
    },
    {
      "cell_type": "code",
      "execution_count": null,
      "metadata": {
        "colab": {
          "base_uri": "https://localhost:8080/",
          "height": 300
        },
        "id": "h84-7McrKj2V",
        "outputId": "1822050c-517c-4d29-f620-ffc7d59c66d6"
      },
      "outputs": [
        {
          "output_type": "stream",
          "name": "stdout",
          "text": [
            "(10, 1) (10, 1)\n"
          ]
        },
        {
          "output_type": "display_data",
          "data": {
            "text/plain": [
              "<Figure size 432x288 with 1 Axes>"
            ],
            "image/png": "[encoded data removed]"
          },
          "metadata": {
            "needs_background": "light"
          }
        }
      ],
      "source": [
        "#Generate training data\n",
        "\n",
        "#hyperparameters\n",
        "d, w0 = 2, 20\n",
        "mu, k = 2*d, w0**2\n",
        "\n",
        "# get the analytical solution over the full domain\n",
        "x = tf.reshape(tf.linspace(0,1,500), [-1,1])\n",
        "y = tf.reshape(oscillator(d, w0, x), [-1, 1])\n",
        "\n",
        "\n",
        "# slice out a small number of points from the LHS of the domain\n",
        "x_data = x[0:200:20]\n",
        "y_data = y[0:200:20]\n",
        "print(x_data.shape, y_data.shape)\n",
        "\n",
        "plt.figure()\n",
        "plt.plot(x, y, label=\"Exact solution\")\n",
        "plt.scatter(x_data, y_data, color=\"tab:orange\", label=\"Training data\")\n",
        "plt.title('Analytical Solution of Harmonic Motion', fontsize=14)\n",
        "plt.legend()\n",
        "plt.show()"
      ]
    },
    {
      "cell_type": "code",
      "execution_count": null,
      "metadata": {
        "id": "56m2C4YPS-KN"
      },
      "outputs": [],
      "source": [
        "import tensorflow as tf\n",
        "from tensorflow.keras.layers import Conv2D, BatchNormalization, Activation, MaxPool2D, Conv2DTranspose, Concatenate, Input\n",
        "from tensorflow.keras.models import Model\n",
        "from keras.layers.core import Flatten, Dense, Dropout, Reshape\n",
        "from keras.models import Model\n",
        "from keras.layers import Input, ZeroPadding2D, Dropout\n",
        "from keras import layers\n",
        "from keras import optimizers\n",
        "from keras.optimizers import SGD"
      ]
    },
    {
      "cell_type": "code",
      "execution_count": null,
      "metadata": {
        "id": "2B9pmZRNSfkI"
      },
      "outputs": [],
      "source": [
        "seq_model = tf.keras.models.Sequential([\n",
        "    tf.keras.layers.Dense(32, activation=\"relu\"),\n",
        "    tf.keras.layers.Dense(32, activation=\"relu\"),\n",
        "    tf.keras.layers.Dense(1,activation=\"tanh\")\n",
        "])\n",
        "\n",
        "seq_model.compile(optimizer = 'adam', loss = 'mse',)\n",
        "seq_model.fit(x_data, y_data, batch_size = 16,verbose=2, epochs = 700)\n",
        "\n",
        "gt = x\n",
        "y_pred = seq_model.predict(x)\n",
        "plt.plot(y_pred,label='predicted')\n",
        "#plt.scatter(x_data,y_data, color=\"tab:green\", label=\"Training data\")\n",
        "plt.plot(y,label='ground truth')\n",
        "plt.legend()"
      ]
    },
    {
      "cell_type": "code",
      "source": [
        "plt.plot(y_pred,label='predicted')\n",
        "#plt.scatter(x_data,y_data, color=\"tab:green\", label=\"Training data\")\n",
        "plt.plot(y,label='ground truth')\n",
        "plt.title('Vanilla MLP Solving Harmonic Motion', fontsize=14)\n",
        "plt.legend()"
      ],
      "metadata": {
        "colab": {
          "base_uri": "https://localhost:8080/",
          "height": 300
        },
        "id": "jvtIT2bit0TX",
        "outputId": "6cf7a080-41ae-4eec-da9c-3b8303a0c238"
      },
      "execution_count": null,
      "outputs": [
        {
          "output_type": "execute_result",
          "data": {
            "text/plain": [
              "<matplotlib.legend.Legend at 0x7f1da7f32640>"
            ]
          },
          "metadata": {},
          "execution_count": 8
        },
        {
          "output_type": "display_data",
          "data": {
            "text/plain": [
              "<Figure size 432x288 with 1 Axes>"
            ],
            "image/png": "[encoded data removed]"
          },
          "metadata": {
            "needs_background": "light"
          }
        }
      ]
    },
    {
      "cell_type": "code",
      "execution_count": null,
      "metadata": {
        "id": "azw5MqYwVcC9"
      },
      "outputs": [],
      "source": [
        "seq_model = tf.keras.models.Sequential([\n",
        "    tf.keras.layers.Dense(32, activation=\"relu\"),\n",
        "    tf.keras.layers.Dense(32, activation=\"relu\"),\n",
        "    tf.keras.layers.Dense(1,activation=\"tanh\")\n",
        "])\n",
        "\n",
        "seq_model.compile(optimizer = 'adam', loss = 'mse',)\n",
        "seq_model.fit(x_data, y_data, batch_size = 16,verbose=2, epochs = 70)\n",
        "\n",
        "gt = x\n",
        "y_pred = seq_model.predict(x)\n",
        "plt.plot(y_pred,label='predicted')\n",
        "#plt.scatter(x_data,y_data, color=\"tab:green\", label=\"Training data\")\n",
        "plt.plot(y,label='ground truth')\n",
        "plt.legend()"
      ]
    },
    {
      "cell_type": "code",
      "execution_count": null,
      "metadata": {
        "id": "d265MIq1RDzD"
      },
      "outputs": [],
      "source": [
        "seq_model = tf.keras.models.Sequential([\n",
        "    tf.keras.layers.Dense(32, activation=\"relu\"),\n",
        "    tf.keras.layers.Dense(32, activation=\"relu\"),\n",
        "    tf.keras.layers.Dense(1,activation=\"tanh\")\n",
        "])\n",
        "\n",
        "seq_model.compile(optimizer = 'adam', loss = 'mse',)\n",
        "seq_model.fit(x_data, y_data, batch_size = 16,verbose=2, epochs = 300)\n",
        "\n",
        "gt = x\n",
        "y_pred = seq_model.predict(x)\n",
        "plt.plot(y_pred,label='predicted')\n",
        "#plt.scatter(x_data,y_data, color=\"tab:green\", label=\"Training data\")\n",
        "plt.plot(y,label='ground truth')\n",
        "plt.legend()"
      ]
    },
    {
      "cell_type": "code",
      "execution_count": null,
      "metadata": {
        "id": "rSbFK0PgLkA1"
      },
      "outputs": [],
      "source": [
        "seq_model = tf.keras.models.Sequential([\n",
        "    tf.keras.layers.Dense(32, activation=\"relu\"),\n",
        "    tf.keras.layers.Dense(32, activation=\"relu\"),\n",
        "    tf.keras.layers.Dense(32, activation=\"relu\"),\n",
        "    tf.keras.layers.Dense(32, activation=\"relu\"),\n",
        "    tf.keras.layers.Dense(32, activation=\"relu\"),\n",
        "    tf.keras.layers.Dense(32, activation=\"relu\"),\n",
        "    tf.keras.layers.Dense(32, activation=\"relu\"),\n",
        "    tf.keras.layers.Dense(32, activation=\"relu\"),\n",
        "    tf.keras.layers.Dense(32, activation=\"relu\"),\n",
        "    tf.keras.layers.Dense(32, activation=\"relu\"),\n",
        "    tf.keras.layers.Dense(32, activation=\"relu\"),\n",
        "    tf.keras.layers.Dense(32, activation=\"relu\"),\n",
        "    tf.keras.layers.Dense(32, activation=\"relu\"),\n",
        "    tf.keras.layers.Dense(32, activation=\"relu\"),\n",
        "    tf.keras.layers.Dense(32, activation=\"relu\"),\n",
        "    tf.keras.layers.Dense(32, activation=\"relu\"),\n",
        "    tf.keras.layers.Dense(32, activation=\"relu\"),\n",
        "    tf.keras.layers.Dense(32, activation=\"relu\"),\n",
        "    tf.keras.layers.Dense(32, activation=\"relu\"),\n",
        "    tf.keras.layers.Dense(32, activation=\"relu\"),\n",
        "    tf.keras.layers.Dense(32, activation=\"relu\"),\n",
        "    tf.keras.layers.Dense(32, activation=\"relu\"),\n",
        "    tf.keras.layers.Dense(32, activation=\"relu\"),\n",
        "    tf.keras.layers.Dense(32, activation=\"relu\"),\n",
        "    tf.keras.layers.Dense(1,activation=\"tanh\")\n",
        "])\n",
        "\n",
        "seq_model.compile(optimizer = 'adam', loss = 'mse',)\n",
        "seq_model.fit(x_data, y_data, batch_size = 16,verbose=2, epochs = 700)\n",
        "\n",
        "gt = x\n",
        "y_pred = seq_model.predict(x)\n",
        "plt.plot(y_pred,label='predicted')\n",
        "#plt.scatter(x_data,y_data, color=\"tab:green\", label=\"Training data\")\n",
        "plt.plot(y,label='ground truth')\n",
        "plt.legend()"
      ]
    },
    {
      "cell_type": "code",
      "source": [
        "plt.plot(y_pred,label='predicted')\n",
        "#plt.scatter(x_data,y_data, color=\"tab:green\", label=\"Training data\")\n",
        "plt.plot(y,label='ground truth')\n",
        "plt.title('Very Deep and Overfit MLP', fontsize=14)\n",
        "\n",
        "plt.legend()"
      ],
      "metadata": {
        "colab": {
          "base_uri": "https://localhost:8080/",
          "height": 300
        },
        "id": "ok9DWvA-uuT3",
        "outputId": "814ea399-8d81-4b42-c5ba-e4a1e2a988cb"
      },
      "execution_count": null,
      "outputs": [
        {
          "output_type": "execute_result",
          "data": {
            "text/plain": [
              "<matplotlib.legend.Legend at 0x7f1da259ddf0>"
            ]
          },
          "metadata": {},
          "execution_count": 12
        },
        {
          "output_type": "display_data",
          "data": {
            "text/plain": [
              "<Figure size 432x288 with 1 Axes>"
            ],
            "image/png": "[encoded data removed]"
          },
          "metadata": {
            "needs_background": "light"
          }
        }
      ]
    },
    {
      "cell_type": "code",
      "execution_count": null,
      "metadata": {
        "id": "Me3B6wfNLwPC"
      },
      "outputs": [],
      "source": [
        "seq_model = tf.keras.models.Sequential([\n",
        "    tf.keras.layers.Dense(32, activation=\"relu\"),\n",
        "    tf.keras.layers.Dense(32, activation=\"relu\"),\n",
        "    tf.keras.layers.Dense(32, activation=\"relu\"),\n",
        "    tf.keras.layers.Dense(32, activation=\"relu\"),\n",
        "    tf.keras.layers.Dense(32, activation=\"relu\"),\n",
        "    tf.keras.layers.Dense(32, activation=\"relu\"),\n",
        "    tf.keras.layers.Dense(32, activation=\"relu\"),\n",
        "    tf.keras.layers.Dense(32, activation=\"relu\"),\n",
        "    tf.keras.layers.Dense(32, activation=\"relu\"),\n",
        "    tf.keras.layers.Dense(32, activation=\"relu\"),\n",
        "    tf.keras.layers.Dense(32, activation=\"relu\"),\n",
        "    tf.keras.layers.Dense(32, activation=\"relu\"),\n",
        "    tf.keras.layers.Dense(32, activation=\"relu\"),\n",
        "    tf.keras.layers.Dense(32, activation=\"relu\"),\n",
        "    tf.keras.layers.Dense(32, activation=\"relu\"),\n",
        "    tf.keras.layers.Dense(32, activation=\"relu\"),\n",
        "    tf.keras.layers.Dense(32, activation=\"relu\"),\n",
        "    tf.keras.layers.Dense(32, activation=\"relu\"),\n",
        "    tf.keras.layers.Dense(32, activation=\"relu\"),\n",
        "    tf.keras.layers.Dense(32, activation=\"relu\"),\n",
        "    tf.keras.layers.Dense(32, activation=\"relu\"),\n",
        "    tf.keras.layers.Dense(32, activation=\"relu\"),\n",
        "    tf.keras.layers.Dense(32, activation=\"relu\"),\n",
        "    tf.keras.layers.Dense(32, activation=\"relu\"),\n",
        "    tf.keras.layers.Dense(32, activation=\"relu\"),\n",
        "    tf.keras.layers.Dense(32, activation=\"relu\"),\n",
        "    tf.keras.layers.Dense(32, activation=\"relu\"),\n",
        "    tf.keras.layers.Dense(32, activation=\"relu\"),\n",
        "    tf.keras.layers.Dense(32, activation=\"relu\"),\n",
        "    tf.keras.layers.Dense(32, activation=\"relu\"),\n",
        "    tf.keras.layers.Dense(32, activation=\"relu\"),\n",
        "    tf.keras.layers.Dense(32, activation=\"relu\"),\n",
        "    tf.keras.layers.Dense(32, activation=\"relu\"),\n",
        "    tf.keras.layers.Dense(32, activation=\"relu\"),\n",
        "    tf.keras.layers.Dense(32, activation=\"relu\"),\n",
        "    tf.keras.layers.Dense(32, activation=\"relu\"),\n",
        "    tf.keras.layers.Dense(32, activation=\"relu\"),\n",
        "    tf.keras.layers.Dense(32, activation=\"relu\"),\n",
        "    tf.keras.layers.Dense(32, activation=\"relu\"),\n",
        "    tf.keras.layers.Dense(32, activation=\"relu\"),\n",
        "    tf.keras.layers.Dense(32, activation=\"relu\"),\n",
        "    tf.keras.layers.Dense(32, activation=\"relu\"),\n",
        "    tf.keras.layers.Dense(32, activation=\"relu\"),\n",
        "    tf.keras.layers.Dense(32, activation=\"relu\"),\n",
        "    tf.keras.layers.Dense(32, activation=\"relu\"),\n",
        "    tf.keras.layers.Dense(32, activation=\"relu\"),\n",
        "    tf.keras.layers.Dense(32, activation=\"relu\"),\n",
        "    tf.keras.layers.Dense(32, activation=\"relu\"),\n",
        "    tf.keras.layers.Dense(32, activation=\"relu\"),\n",
        "    tf.keras.layers.Dense(32, activation=\"relu\"),\n",
        "    tf.keras.layers.Dense(32, activation=\"relu\"),\n",
        "    tf.keras.layers.Dense(32, activation=\"relu\"),\n",
        "    tf.keras.layers.Dense(32, activation=\"relu\"),\n",
        "    tf.keras.layers.Dense(32, activation=\"relu\"),\n",
        "    tf.keras.layers.Dense(32, activation=\"relu\"),\n",
        "    tf.keras.layers.Dense(32, activation=\"relu\"),\n",
        "    tf.keras.layers.Dense(32, activation=\"relu\"),\n",
        "    tf.keras.layers.Dense(32, activation=\"relu\"),\n",
        "    tf.keras.layers.Dense(32, activation=\"relu\"),\n",
        "    tf.keras.layers.Dense(32, activation=\"relu\"),\n",
        "    tf.keras.layers.Dense(32, activation=\"relu\"),\n",
        "    tf.keras.layers.Dense(32, activation=\"relu\"),\n",
        "    tf.keras.layers.Dense(32, activation=\"relu\"),\n",
        "    tf.keras.layers.Dense(32, activation=\"relu\"),\n",
        "    tf.keras.layers.Dense(32, activation=\"relu\"),\n",
        "    tf.keras.layers.Dense(32, activation=\"relu\"),\n",
        "    tf.keras.layers.Dense(32, activation=\"relu\"),\n",
        "    tf.keras.layers.Dense(32, activation=\"relu\"),\n",
        "    tf.keras.layers.Dense(32, activation=\"relu\"),\n",
        "    tf.keras.layers.Dense(32, activation=\"relu\"),\n",
        "    tf.keras.layers.Dense(32, activation=\"relu\"),\n",
        "    tf.keras.layers.Dense(32, activation=\"relu\"),\n",
        "    tf.keras.layers.Dense(1,activation=\"tanh\")\n",
        "])\n",
        "\n",
        "seq_model.compile(optimizer = 'adam', loss = 'mse',)\n",
        "seq_model.fit(x_data, y_data, batch_size = 16,verbose=2, epochs = 700)\n",
        "\n",
        "gt = x\n",
        "y_pred = seq_model.predict(x)\n",
        "plt.plot(y_pred,label='predicted')\n",
        "#plt.scatter(x_data,y_data, color=\"tab:green\", label=\"Training data\")\n",
        "plt.plot(y,label='ground truth')\n",
        "plt.legend()"
      ]
    },
    {
      "cell_type": "code",
      "execution_count": null,
      "metadata": {
        "id": "Okq2K0TYcBco",
        "colab": {
          "base_uri": "https://localhost:8080/"
        },
        "outputId": "e2983e9f-800b-479a-fdeb-bb1bb12c6e69"
      },
      "outputs": [
        {
          "output_type": "stream",
          "name": "stdout",
          "text": [
            "Model: \"model\"\n",
            "_________________________________________________________________\n",
            " Layer (type)                Output Shape              Param #   \n",
            "=================================================================\n",
            " input_1 (InputLayer)        [(None, 2)]               0         \n",
            "                                                                 \n",
            " lambda (Lambda)             (None, 2)                 0         \n",
            "                                                                 \n",
            " dense_107 (Dense)           (None, 20)                60        \n",
            "                                                                 \n",
            " dense_108 (Dense)           (None, 20)                420       \n",
            "                                                                 \n",
            " dense_109 (Dense)           (None, 20)                420       \n",
            "                                                                 \n",
            " dense_110 (Dense)           (None, 20)                420       \n",
            "                                                                 \n",
            " dense_111 (Dense)           (None, 1)                 21        \n",
            "                                                                 \n",
            "=================================================================\n",
            "Total params: 1,341\n",
            "Trainable params: 1,341\n",
            "Non-trainable params: 0\n",
            "_________________________________________________________________\n"
          ]
        }
      ],
      "source": [
        "initializer = tf.keras.initializers.GlorotNormal()\n",
        "ub = 1 \n",
        "lb = -1 \n",
        "inputs = layers.Input(shape=(2,), dtype=tf.float64)\n",
        "z = layers.Lambda(lambda X: 2.0*(X - lb)/(ub - lb) - 1.0)(inputs)\n",
        "z = layers.Dense(20, activation=\"tanh\", kernel_initializer=initializer)(z)\n",
        "z = layers.Dense(20, activation=\"tanh\", kernel_initializer=initializer)(z)\n",
        "z = layers.Dense(20, activation=\"tanh\", kernel_initializer=initializer)(z)\n",
        "z = layers.Dense(20, activation=\"tanh\", kernel_initializer=initializer)(z)\n",
        "\n",
        "outputs = layers.Dense(1, kernel_initializer=initializer)(z)\n",
        "\n",
        "U_model = tf.keras.Model(inputs=inputs, outputs=outputs)\n",
        "\n",
        "U_model.summary()\n",
        "def F_model(x,t):\n",
        "    t = tf.Variable(t)\n",
        "    with tf.GradientTape(persistent=True) as tape:\n",
        "        u = tf.squeeze(tf.cast(U_model(tf.stack([x,t], 1)), tf.float64))\n",
        "        u_t = tape.gradient(u,t)\n",
        "        u_tt = tape.gradient(u_t,t)\n",
        "\n",
        "        f = u_tt + mu*u_t + k*u\n",
        "    return f"
      ]
    },
    {
      "cell_type": "code",
      "source": [
        "#Define fully connected network for our PINN\n",
        "class FCN(tf.keras.Model):\n",
        "    \"Defines a connected network\"\n",
        "\n",
        "    def __init__(self, N_INPUT, N_OUTPUT, N_HIDDEN, N_LAYERS):\n",
        "        super().__init__()\n",
        "        self.fcs = tf.keras.Sequential()\n",
        "        self.fcs.add(tf.keras.layers.Dense(N_HIDDEN, input_dim=N_INPUT, activation=\"tanh\"))\n",
        "        self.fch = tf.keras.Sequential()\n",
        "        for _ in range(N_LAYERS-1):\n",
        "            self.fch.add(tf.keras.layers.Dense(N_HIDDEN, activation=\"tanh\"))\n",
        "        self.fce = tf.keras.layers.Dense(N_OUTPUT)\n",
        "        \n",
        "    def call(self, x):\n",
        "        output = self.fcs(x)\n",
        "        output = self.fch(output)\n",
        "        output = self.fce(output)\n",
        "        return output"
      ],
      "metadata": {
        "id": "lwFQ60n_FRaK"
      },
      "execution_count": null,
      "outputs": []
    },
    {
      "cell_type": "code",
      "source": [
        "# sample locations over the problem domain\n",
        "x_physics = tf.linspace(0., 1., 30, name='x_physics')\n",
        "x_physics = tf.reshape(x_physics, [-1, 1])\n",
        "x_physics = tf.Variable(x_physics)\n",
        "\n",
        "mu, k = 2 * d, w0**2\n",
        "\n",
        "# Create a TensorFlow random seed\n",
        "tf.random.set_seed(123)\n",
        "\n",
        "# Create the model\n",
        "model = FCN(1, 1, 32, 3)\n",
        "\n",
        "# Create the optimizer\n",
        "optimizer = tf.keras.optimizers.Adam(learning_rate=1e-4)\n",
        "\n",
        "# Initialize an empty list to store the results of each iteration\n",
        "files = []\n",
        "\n",
        "\n",
        "# Train the model\n",
        "for i in range(20000):\n",
        "    with tf.GradientTape(persistent=True) as tape:\n",
        "        # Compute the \"data loss\"\n",
        "        yh = model(x_data)\n",
        "\n",
        "        yh = tf.cast(yh, tf.float32)\n",
        "        y_data = tf.cast(y_data, tf.float32)\n",
        "\n",
        "        loss1 = tf.reduce_mean(tf.square(yh - y_data) ** 2)\n",
        "\n",
        "        # Compute the \"physics loss\"\n",
        "        yhp = model(x_physics)\n",
        "        dx = tape.gradient(yhp, x_physics, tf.ones_like(yhp)) # computes dy/dx\n",
        "        dx2 = tape.gradient(dx, x_physics, tf.ones_like(dx)) # computes d^2y/dx^2 \n",
        "        physics = dx2 + mu*dx + k*yhp # computes the residual of the 1D harmonic oscillator differential equation\n",
        "        loss2 = (1e-4)*tf.reduce_mean(tf.square(physics))\n",
        "\n",
        "        # Add the two loss terms together\n",
        "        loss = loss1 + loss2\n",
        "\n",
        "    # Backpropagate\n",
        "        gradients = tape.gradient(loss, model.trainable_variables)\n",
        "        optimizer.apply_gradients(zip(gradients, model.trainable_variables))\n",
        "        del tape"
      ],
      "metadata": {
        "colab": {
          "base_uri": "https://localhost:8080/"
        },
        "id": "5DVnGNiNDn71",
        "outputId": "2b92a1a7-1b42-401b-c29f-b6f060676b01"
      },
      "execution_count": 56,
      "outputs": [
        {
          "output_type": "stream",
          "name": "stderr",
          "text": [
            "WARNING:tensorflow:Calling GradientTape.gradient on a persistent tape inside its context is significantly less efficient than calling it outside the context (it causes the gradient ops to be recorded on the tape, leading to increased CPU and memory usage). Only call GradientTape.gradient inside the context if you actually want to trace the gradient in order to compute higher order derivatives.\n",
            "WARNING:tensorflow:Calling GradientTape.gradient on a persistent tape inside its context is significantly less efficient than calling it outside the context (it causes the gradient ops to be recorded on the tape, leading to increased CPU and memory usage). Only call GradientTape.gradient inside the context if you actually want to trace the gradient in order to compute higher order derivatives.\n",
            "WARNING:tensorflow:Calling GradientTape.gradient on a persistent tape inside its context is significantly less efficient than calling it outside the context (it causes the gradient ops to be recorded on the tape, leading to increased CPU and memory usage). Only call GradientTape.gradient inside the context if you actually want to trace the gradient in order to compute higher order derivatives.\n"
          ]
        }
      ]
    },
    {
      "cell_type": "code",
      "source": [
        "gt = x\n",
        "y_pred = model.predict(x)\n",
        "plt.plot(y_pred,label='predicted')\n",
        "#plt.scatter(x_data,y_data, color=\"tab:green\", label=\"Training data\")\n",
        "plt.plot(y,label='ground truth')\n",
        "plt.legend()"
      ],
      "metadata": {
        "colab": {
          "base_uri": "https://localhost:8080/",
          "height": 301
        },
        "id": "pCGJDfteOqal",
        "outputId": "8e4bffd5-43de-40e1-b2d0-cedeb976ccbb"
      },
      "execution_count": 57,
      "outputs": [
        {
          "output_type": "stream",
          "name": "stdout",
          "text": [
            "16/16 [==============================] - 0s 2ms/step\n"
          ]
        },
        {
          "output_type": "execute_result",
          "data": {
            "text/plain": [
              "<matplotlib.legend.Legend at 0x7f4b9de54f10>"
            ]
          },
          "metadata": {},
          "execution_count": 57
        },
        {
          "output_type": "display_data",
          "data": {
            "text/plain": [
              "<Figure size 432x288 with 1 Axes>"
            ],
            "image/png": "[encoded data removed]"
          },
          "metadata": {
            "needs_background": "light"
          }
        }
      ]
    }
  ],
  "metadata": {
    "colab": {
      "provenance": []
    },
    "kernelspec": {
      "display_name": "Python 3",
      "name": "python3"
    },
    "language_info": {
      "name": "python"
    }
  },
  "nbformat": 4,
  "nbformat_minor": 0
}